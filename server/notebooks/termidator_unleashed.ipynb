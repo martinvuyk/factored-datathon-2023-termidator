{
 "cells": [
  {
   "cell_type": "markdown",
   "metadata": {},
   "source": [
    "# TermiDator\n",
    "#### a killer solution"
   ]
  },
  {
   "cell_type": "markdown",
   "metadata": {},
   "source": [
    "## Amazon Reviews and Amazon Products\n",
    "Some questions that can be asked about reviews and a product:\n",
    "- How do people normally feel about this product?\n",
    "- How is this person as a reviewer?\n",
    "\n",
    "What is normally implemented?\n",
    "- rating system (stars)\n",
    "- some sort of badge system, or people write long and serious reviews with pros and cons\n",
    "- the text in the reviews themselves show the true experience for the user"
   ]
  },
  {
   "cell_type": "markdown",
   "metadata": {},
   "source": [
    "## Anazlyzing reviews emotionally\n",
    "What if you had a simple endpoint that returns the motional spectrum of a product with some interesting statistics?\n",
    "\n",
    "Use cases:\n",
    "- What does one do when undecided between products? reading reviews. Normally a couple high, a couple low, some in between.\n",
    "- What if you are a company looking to break into the market? you want insights. What do people really care about? What are some pitfalls in this particular category?\n",
    "- What if you are the marketplace itself and want to implement a more sophisticated ranking system?\n",
    "\n",
    "TermiDator to the rescue\n",
    "\n",
    "What does TermiDator propose?\n",
    "\n",
    "- rating system\n",
    "    - stars\n",
    "    - emotion spectrum (anger, disgust, fear, joy, neutral, sadness, surprise) based on the reviewText and summary fields"
   ]
  },
  {
   "cell_type": "markdown",
   "metadata": {},
   "source": [
    "### Emotion Classification using pretrained BERT Transformers\n",
    "https://huggingface.co/j-hartmann/emotion-english-distilroberta-base"
   ]
  },
  {
   "cell_type": "markdown",
   "metadata": {},
   "source": [
    "### Example use"
   ]
  },
  {
   "cell_type": "code",
   "execution_count": null,
   "metadata": {},
   "outputs": [],
   "source": [
    "import requests, os, pandas as pd\n",
    "BASE_URL = f\"http://{os.getenv('BACKEND_HOST')}:{os.getenv('BACKEND_PORT')}/api/v1\"\n",
    "\n",
    "example_asin = \"B000062WUT\"\n",
    "response = requests.get(f\"{BASE_URL}/review_emotions\", params={\"asin\":example_asin}).json()\n",
    "df = pd.read_json(response)\n",
    "df.head()"
   ]
  },
  {
   "cell_type": "markdown",
   "metadata": {},
   "source": [
    "### Endpoints"
   ]
  },
  {
   "cell_type": "code",
   "execution_count": null,
   "metadata": {},
   "outputs": [],
   "source": [
    "import requests\n",
    "from IPython.display import Markdown, display, IFrame\n",
    "import os\n",
    "url = f\"{BASE_URL}/docs/swagger\"\n",
    "display(IFrame(url, 1200, 700))"
   ]
  },
  {
   "cell_type": "markdown",
   "metadata": {},
   "source": [
    "# How was this done?"
   ]
  },
  {
   "cell_type": "code",
   "execution_count": null,
   "metadata": {},
   "outputs": [],
   "source": [
    "readme_page = \"https://raw.githubusercontent.com/martinvuyk/factored-datathon-2023-termidator/develop/README.md\"\n",
    "image_dir = \"https://raw.githubusercontent.com/martinvuyk/factored-datathon-2023-termidator/develop/images\"\n",
    "display(Markdown(requests.get(readme_page).content.decode().replace(\"./images\", image_dir)))"
   ]
  }
 ],
 "metadata": {
  "kernelspec": {
   "display_name": "Python 3 (ipykernel)",
   "language": "python",
   "name": "python3"
  },
  "language_info": {
   "codemirror_mode": {
    "name": "ipython",
    "version": 3
   },
   "file_extension": ".py",
   "mimetype": "text/x-python",
   "name": "python",
   "nbconvert_exporter": "python",
   "pygments_lexer": "ipython3",
   "version": "3.10.12"
  }
 },
 "nbformat": 4,
 "nbformat_minor": 4
}
